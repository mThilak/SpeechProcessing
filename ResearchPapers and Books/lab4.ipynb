{
 "cells": [
  {
   "cell_type": "code",
   "execution_count": 38,
   "metadata": {},
   "outputs": [],
   "source": [
    "import scipy\n",
    "import numpy as np\n",
    "import matplotlib\n",
    "import pandas\n",
    "import sklearn\n",
    "from matplotlib import pyplot\n",
    "import matplotlib.pyplot as plt\n",
    "url = \"https://archive.ics.uci.edu/ml/machine-learning-databases/iris/iris.data\"\n",
    "names = ['sepal-length', 'sepal-width', 'petal-length', 'petal-width', 'class']\n",
    "dataset = pandas.read_csv(url, names=names)\n",
    "data2=dataset.drop(['sepal-length', 'sepal-width'], axis = 1)\n",
    "\n"
   ]
  },
  {
   "cell_type": "code",
   "execution_count": 39,
   "metadata": {},
   "outputs": [],
   "source": [
    "pl_setosa_train = np.array(dataset.iloc[0:40, 2])\n",
    "pl_versicolor_train = np.array(dataset.iloc[50:90, 2])\n",
    "pl_virginica_train = np.array(dataset.iloc[100:140, 2])\n",
    "\n",
    "pl_setosa_test = np.array(dataset.iloc[40:50, 2])\n",
    "pl_versicolor_test = np.array(dataset.iloc[90:100, 2])\n",
    "pl_virginica_test = np.array(dataset.iloc[140:150, 2])\n",
    "\n",
    "pw_setosa_train = np.array(dataset.iloc[0:40, 3])\n",
    "pw_versicolor_train = np.array(dataset.iloc[50:90, 3])\n",
    "pw_virginica_train = np.array(dataset.iloc[100:140, 3])\n",
    "\n",
    "pw_setosa_test = np.array(dataset.iloc[40:50, 3])\n",
    "pw_versicolor_test = np.array(dataset.iloc[90:100, 3])\n",
    "pw_virginica_test = np.array(dataset.iloc[140:150, 3])\n",
    "\n",
    "\n"
   ]
  },
  {
   "cell_type": "code",
   "execution_count": 40,
   "metadata": {},
   "outputs": [
    {
     "name": "stdout",
     "output_type": "stream",
     "text": [
      "[ 1.4625  0.2325]\n",
      "[ 4.3175  1.35  ]\n",
      "[ 5.6075  1.99  ]\n",
      "[[ 0.02958333  0.00458333]\n",
      " [ 0.00458333  0.00994231]]\n",
      "[[ 0.20353205  0.07371795]\n",
      " [ 0.07371795  0.04307692]]\n",
      "[[ 0.34532692  0.05930769]\n",
      " [ 0.05930769  0.07425641]]\n"
     ]
    }
   ],
   "source": [
    "mean_pl_setosa=np.mean(pl_setosa_train)\n",
    "mean_pl_versicolor=np.mean(pl_versicolor_train)\n",
    "mean_pl_virginica=np.mean(pl_virginica_train)\n",
    "\n",
    "mean_pw_virginica=np.mean(pw_virginica_train)\n",
    "mean_pw_versicolor=np.mean(pw_versicolor_train)\n",
    "mean_pw_setosa=np.mean(pw_setosa_train)\n",
    "\n",
    "mean_set=np.array([mean_pl_setosa,mean_pw_setosa])\n",
    "print(mean_set)\n",
    "mean_ver=np.array([mean_pl_versicolor,mean_pw_versicolor])\n",
    "print(mean_ver)\n",
    "\n",
    "mean_vir=np.array([mean_pl_virginica,mean_pw_virginica])\n",
    "print(mean_vir)\n",
    "\n",
    "cov_set=np.cov(dataset.iloc[0:40, 2],dataset.iloc[0:40, 3])\n",
    "\n",
    "cov_ver=np.cov(dataset.iloc[50:90, 2],dataset.iloc[50:90, 3])\n",
    "cov_vir=np.cov(dataset.iloc[100:140, 2],dataset.iloc[100:140, 3])\n",
    "\n",
    "print(cov_set)\n",
    "print(cov_ver)\n",
    "print(cov_vir)\n"
   ]
  },
  {
   "cell_type": "code",
   "execution_count": 41,
   "metadata": {},
   "outputs": [
    {
     "name": "stdout",
     "output_type": "stream",
     "text": [
      "[[ 10.   0.   0.]\n",
      " [  0.   0.   0.]\n",
      " [  0.   0.   0.]]\n"
     ]
    }
   ],
   "source": [
    "confusion_matrix = np.zeros((3,3))\n",
    "def Gaussian_2D (x,mu,cov):\n",
    "    a = np.matrix(x-mu)\n",
    "    #print(a)\n",
    "\n",
    "    detcov=np.linalg.det(cov)\n",
    "    #print(detcov)\n",
    "    \n",
    "    return 1/((2*np.pi)*np.sqrt(detcov))*np.exp(-0.5*a*np.linalg.inv(cov)*a.transpose())\n",
    "#confusion = np.matrix()\n",
    "\n",
    "for i in range(10):\n",
    "    y1=[pl_setosa_test[i],pw_setosa_test[i]]\n",
    "    #print (y1)\n",
    "    q1=Gaussian_2D(y1,mean_set,cov_set)\n",
    "    #print(q1)\n",
    "\n",
    "    \n",
    "    y2=[pl_versicolor_test[i],pw_versicolor_test[i]]\n",
    "    q2=Gaussian_2D(y2,mean_set,cov_set)\n",
    "    #print(q2)\n",
    "\n",
    "    y3=[pl_virginica_test[i],pw_virginica_test[i]]\n",
    "    q3=Gaussian_2D(y3,mean_set,cov_set)\n",
    "    #print(q3)\n",
    "    \n",
    "    #if((y1>y2)&(y1>y3)):\n",
    "     # confusion[0,0]=confusion[0,0]+1    \n",
    "    \n",
    "    probs = []\n",
    "    probs.append(q1)\n",
    "    probs.append(q2)\n",
    "    probs.append(q3)\n",
    "    max_prob = max(probs)\n",
    "    if ((max_prob>q2)&(max_prob>q3)):\n",
    "        confusion_matrix[0,0]=confusion_matrix[0,0]+1\n",
    "print(confusion_matrix)\n",
    "\n",
    "\n",
    "    "
   ]
  },
  {
   "cell_type": "code",
   "execution_count": 42,
   "metadata": {},
   "outputs": [
    {
     "name": "stdout",
     "output_type": "stream",
     "text": [
      "[[ 10.   0.   0.]\n",
      " [  0.  10.   0.]\n",
      " [  0.   0.   0.]]\n"
     ]
    }
   ],
   "source": [
    "for i in range(10):\n",
    "    y1=[pl_setosa_test[i],pw_setosa_test[i]]\n",
    "    #print (y1)\n",
    "    r1=Gaussian_2D(y1,mean_ver,cov_ver)\n",
    "\n",
    "\n",
    "    \n",
    "    r2=[pl_versicolor_test[i],pw_versicolor_test[i]]\n",
    "    r2=Gaussian_2D(y2,mean_ver,cov_ver)\n",
    "\n",
    "\n",
    "    r3=[pl_virginica_test[i],pw_virginica_test[i]]\n",
    "    r3=Gaussian_2D(y3,mean_ver,cov_ver)\n",
    "\n",
    "    \n",
    "    #if((y1>y2)&(y1>y3)):\n",
    "     # confusion[0,0]=confusion[0,0]+1    \n",
    "    \n",
    "    probs = []\n",
    "    probs.append(r1)\n",
    "    probs.append(r2)\n",
    "    probs.append(r3)\n",
    "    max_prob = max(probs)\n",
    "    if ((max_prob>r1)&(max_prob>r3)):\n",
    "        confusion_matrix[1,1]=confusion_matrix[1,1]+1\n",
    "print(confusion_matrix)\n",
    "        \n"
   ]
  },
  {
   "cell_type": "code",
   "execution_count": 43,
   "metadata": {},
   "outputs": [
    {
     "name": "stdout",
     "output_type": "stream",
     "text": [
      "[[ 10.   0.   0.]\n",
      " [  0.  10.   0.]\n",
      " [  0.   0.  10.]]\n"
     ]
    }
   ],
   "source": [
    "for i in range(10):\n",
    "    y1=[pl_setosa_test[i],pw_setosa_test[i]]\n",
    "    #print (y1)\n",
    "    s1=Gaussian_2D(y1,mean_vir,cov_vir)\n",
    "    \n",
    "\n",
    "    \n",
    "    y2=[pl_versicolor_test[i],pw_versicolor_test[i]]\n",
    "    s2=Gaussian_2D(y2,mean_vir,cov_vir)\n",
    "\n",
    "\n",
    "    y3=[pl_virginica_test[i],pw_virginica_test[i]]\n",
    "    s3=Gaussian_2D(y3,mean_vir,cov_vir)\n",
    "    \n",
    "    #if((y1>y2)&(y1>y3)):\n",
    "     # confusion[0,0]=confusion[0,0]+1    \n",
    "    \n",
    "    probs = []\n",
    "    probs.append(s1)\n",
    "    probs.append(s2)\n",
    "    probs.append(s3)\n",
    "    max_prob = max(probs)\n",
    "    if ((max_prob>s1)&(max_prob>s2)):\n",
    "        confusion_matrix[2,2]=confusion_matrix[2,2]+1\n",
    "print(confusion_matrix)\n"
   ]
  },
  {
   "cell_type": "code",
   "execution_count": 44,
   "metadata": {},
   "outputs": [
    {
     "data": {
      "image/png": "[encoded data removed]",
      "text/plain": [
       "<Figure size 432x288 with 1 Axes>"
      ]
     },
     "metadata": {},
     "output_type": "display_data"
    }
   ],
   "source": [
    "plt.scatter(pl_setosa_test,pw_setosa_test,label='setosa_test')\n",
    "plt.scatter(pl_versicolor_test,pw_versicolor_test,label='versicolour_test')\n",
    "plt.scatter(pl_virginica_test,pw_virginica_test,label='virginica_test')\n",
    "plt.scatter(pl_setosa_train,pw_setosa_train,label='setosa_train')\n",
    "plt.scatter(pl_versicolor_train,pw_versicolor_train,label='versicolour_train')\n",
    "plt.scatter(pl_virginica_train,pw_virginica_train,label='virginica_train')\n",
    "plt.legend()\n",
    "plt.show()\n",
    "#plt.show()\n",
    "\n"
   ]
  },
  {
   "cell_type": "code",
   "execution_count": 45,
   "metadata": {},
   "outputs": [
    {
     "data": {
      "image/png": "[encoded data removed]",
      "text/plain": [
       "<Figure size 432x288 with 1 Axes>"
      ]
     },
     "metadata": {},
     "output_type": "display_data"
    }
   ],
   "source": [
    "def setosa_versi(x):\n",
    "    a1=(Gaussian_2D(x,mean_set,cov_set))\n",
    "  \n",
    "    a2=(Gaussian_2D(x,mean_ver,cov_ver))\n",
    "   \n",
    "    return ((a1)-(a2))\n",
    "\n",
    "def setosa_virgi(x):\n",
    "    a1=(Gaussian_2D(x,mean_ver,cov_ver))\n",
    "    a2=(Gaussian_2D(x,mean_vir,cov_vir))\n",
    "   \n",
    "    return ((a1)-(a2))\n",
    "\n",
    "yp = np.arange(0, 2.5, 0.01)\n",
    "xp = np.arange(0, 7.0, 0.01)\n",
    "yp1 = np.arange(0, 2.5,1)\n",
    "xp1 = np.arange(0, 7.0,1)\n",
    "Z1 = np.empty([250,700])\n",
    "Z2 = np.empty([250,700])\n",
    "\n",
    "for i in np.arange(250):\n",
    "    for j in np.arange(700):\n",
    "        Z1[i,j]=setosa_versi([xp[j],yp[i]])\n",
    "        \n",
    "for i in np.arange(250):\n",
    "    for j in np.arange(700):\n",
    "        Z2[i,j]=setosa_virgi([xp[j],yp[i]])\n",
    "        \n",
    "#plt.imshow(Z1)\n",
    "plt.scatter(pl_setosa_test,pw_setosa_test,label='setosa_test')\n",
    "plt.scatter(pl_versicolor_test,pw_versicolor_test,label='versicolour_test')\n",
    "plt.scatter(pl_virginica_test,pw_virginica_test,label='virginica_test')\n",
    "plt.scatter(pl_setosa_train,pw_setosa_train,label='setosa_train')\n",
    "plt.scatter(pl_versicolor_train,pw_versicolor_train,label='versicolour_train')\n",
    "plt.scatter(pl_virginica_train,pw_virginica_train,label='virginica_train')\n",
    "\n",
    "plt.legend()            \n",
    "plt.contour(xp,yp,Z1,levels=[0])\n",
    "plt.contour(xp,yp,Z2,levels=[0])\n",
    "\n",
    "plt.show()\n",
    "\n",
    "# max_index = probs.index(max_prob)\n",
    "    \n",
    "#np.random.multivariate_normal(mean_set,cov_set)"
   ]
  },
  {
   "cell_type": "code",
   "execution_count": 52,
   "metadata": {},
   "outputs": [],
   "source": [
    "from sklearn.model_selection import train_test_split\n",
    "setosa_data = (data2.iloc[0:50])\n",
    "setosa_train, setosa_test = train_test_split(setosa_data, test_size = 0.2) \n",
    "pl_set_train=np.array(setosa_train.iloc[:,0])\n",
    "pw_set_train=np.array(setosa_train.iloc[:,1])\n",
    "pl_set_test=np.array(setosa_test.iloc[:,0])\n",
    "pw_set_test=np.array(setosa_test.iloc[:,1])\n",
    "\n",
    "versi_data=data2.iloc[50:100]\n",
    "versi_train, versi_test = train_test_split(versi_data, test_size = 0.2) \n",
    "pl_versi_train=np.array(versi_train.iloc[:,0])\n",
    "pw_versi_train=np.array(versi_train.iloc[:,1])\n",
    "pl_versi_test=np.array(versi_test.iloc[:,0])\n",
    "pw_versi_test=np.array(versi_test.iloc[:,1])\n",
    "\n",
    "\n",
    "virgi_data=data2.iloc[100:150]\n",
    "virgi_train, virgi_test = train_test_split(virgi_data, test_size = 0.2) \n",
    "pl_virgi_train=np.array(virgi_train.iloc[:,0])\n",
    "pw_virgi_train=np.array(virgi_train.iloc[:,1])\n",
    "pl_virgi_test=np.array(virgi_test.iloc[:,0])\n",
    "pw_virgi_test=np.array(virgi_test.iloc[:,1])\n"
   ]
  },
  {
   "cell_type": "code",
   "execution_count": 53,
   "metadata": {},
   "outputs": [
    {
     "name": "stdout",
     "output_type": "stream",
     "text": [
      "[ 1.475  0.25 ]\n",
      "[ 4.27    1.3375]\n",
      "[ 5.575   2.0325]\n",
      "[[ 0.03423077  0.00615385]\n",
      " [ 0.00615385  0.01282051]]\n",
      "[[ 0.25292308  0.07628205]\n",
      " [ 0.07628205  0.03830128]]\n",
      "[[ 0.29371795  0.04621795]\n",
      " [ 0.04621795  0.07712179]]\n"
     ]
    }
   ],
   "source": [
    "mean_pl_set=np.mean(pl_set_train)\n",
    "mean_pl_versi=np.mean(pl_versi_train)\n",
    "mean_pl_virgi=np.mean(pl_virgi_train)\n",
    "\n",
    "mean_pw_virgi=np.mean(pw_virgi_train)\n",
    "mean_pw_versi=np.mean(pw_versi_train)\n",
    "mean_pw_set=np.mean(pw_set_train)\n",
    "\n",
    "mean_set=np.array([mean_pl_set,mean_pw_set])\n",
    "print(mean_set)\n",
    "mean_ver=np.array([mean_pl_versi,mean_pw_versi])\n",
    "print(mean_ver)\n",
    "\n",
    "mean_vir=np.array([mean_pl_virgi,mean_pw_virgi])\n",
    "print(mean_vir)\n",
    "\n",
    "cov_set=np.cov(pl_set_train,pw_set_train)\n",
    "\n",
    "cov_ver=np.cov(pl_versi_train,pw_versi_train)\n",
    "cov_vir=np.cov(pl_virgi_train,pw_virgi_train)\n",
    "\n",
    "print(cov_set)\n",
    "print(cov_ver)\n",
    "print(cov_vir)\n"
   ]
  },
  {
   "cell_type": "code",
   "execution_count": 55,
   "metadata": {},
   "outputs": [
    {
     "name": "stdout",
     "output_type": "stream",
     "text": [
      "[[ 10.   0.   0.]\n",
      " [  0.  10.   0.]\n",
      " [  0.   0.  10.]]\n"
     ]
    }
   ],
   "source": [
    "confusion_matrix = np.zeros((3,3))\n",
    "def Gaussian_2D (x,mu,cov):\n",
    "    a = np.matrix(x-mu)\n",
    "    #print(a)\n",
    "\n",
    "    detcov=np.linalg.det(cov)\n",
    "    #print(detcov)\n",
    "    \n",
    "    return 1/((2*np.pi)*np.sqrt(detcov))*np.exp(-0.5*a*np.linalg.inv(cov)*a.transpose())\n",
    "#confusion = np.matrix()\n",
    "\n",
    "for i in range(10):\n",
    "    y1=[pl_setosa_test[i],pw_setosa_test[i]]\n",
    "    #print (y1)\n",
    "    q1=Gaussian_2D(y1,mean_set,cov_set)\n",
    "    #print(q1)\n",
    "\n",
    "    \n",
    "    y2=[pl_versi_test[i],pw_versi_test[i]]\n",
    "    q2=Gaussian_2D(y2,mean_set,cov_set)\n",
    "    #print(q2)\n",
    "\n",
    "    y3=[pl_virgi_test[i],pw_virgi_test[i]]\n",
    "    q3=Gaussian_2D(y3,mean_set,cov_set)\n",
    "    #print(q3)\n",
    "    \n",
    "    #if((y1>y2)&(y1>y3)):\n",
    "     # confusion[0,0]=confusion[0,0]+1    \n",
    "    \n",
    "    probs = []\n",
    "    probs.append(q1)\n",
    "    probs.append(q2)\n",
    "    probs.append(q3)\n",
    "    max_prob = max(probs)\n",
    "    if ((max_prob>q2)&(max_prob>q3)):\n",
    "        confusion_matrix[0,0]=confusion_matrix[0,0]+1\n",
    "        \n",
    "for i in range(10):\n",
    "    y1=[pl_setosa_test[i],pw_setosa_test[i]]\n",
    "    #print (y1)\n",
    "    r1=Gaussian_2D(y1,mean_ver,cov_ver)\n",
    "\n",
    "    \n",
    "    r2=[pl_versi_test[i],pw_versi_test[i]]\n",
    "    r2=Gaussian_2D(y2,mean_ver,cov_ver)\n",
    "    \n",
    "\n",
    "    r3=[pl_virgi_test[i],pw_virgi_test[i]]\n",
    "    r3=Gaussian_2D(y3,mean_ver,cov_ver)\n",
    "\n",
    "    \n",
    "    #if((y1>y2)&(y1>y3)):\n",
    "     # confusion[0,0]=confusion[0,0]+1    \n",
    "    \n",
    "    probs = []\n",
    "    probs.append(r1)\n",
    "    probs.append(r2)\n",
    "    probs.append(r3)\n",
    "    max_prob = max(probs)\n",
    "    if ((max_prob>r1)&(max_prob>r3)):\n",
    "        confusion_matrix[1,1]=confusion_matrix[1,1]+1\n",
    "\n",
    "        \n",
    "\n",
    "for i in range(10):\n",
    "    y1=[pl_set_test[i],pw_set_test[i]]\n",
    "    #print (y1)\n",
    "    s1=Gaussian_2D(y1,mean_vir,cov_vir)\n",
    "    \n",
    "\n",
    "    \n",
    "    y2=[pl_versi_test[i],pw_versi_test[i]]\n",
    "    s2=Gaussian_2D(y2,mean_vir,cov_vir)\n",
    "\n",
    "\n",
    "    y3=[pl_virgi_test[i],pw_virgi_test[i]]\n",
    "    s3=Gaussian_2D(y3,mean_vir,cov_vir)\n",
    "\n",
    "    \n",
    "    #if((y1>y2)&(y1>y3)):\n",
    "     # confusion[0,0]=confusion[0,0]+1    \n",
    "    \n",
    "    probs = []\n",
    "    probs.append(s1)\n",
    "    probs.append(s2)\n",
    "    probs.append(s3)\n",
    "    max_prob = max(probs)\n",
    "    if ((max_prob>s1)&(max_prob>s2)):\n",
    "        confusion_matrix[2,2]=confusion_matrix[2,2]+1\n",
    "print(confusion_matrix)"
   ]
  },
  {
   "cell_type": "code",
   "execution_count": null,
   "metadata": {},
   "outputs": [],
   "source": []
  }
 ],
 "metadata": {
  "kernelspec": {
   "display_name": "Python 3",
   "language": "python",
   "name": "python3"
  },
  "language_info": {
   "codemirror_mode": {
    "name": "ipython",
    "version": 3
   },
   "file_extension": ".py",
   "mimetype": "text/x-python",
   "name": "python",
   "nbconvert_exporter": "python",
   "pygments_lexer": "ipython3",
   "version": "3.5.5"
  },
  "widgets": {
   "state": {},
   "version": "1.1.2"
  }
 },
 "nbformat": 4,
 "nbformat_minor": 2
}
