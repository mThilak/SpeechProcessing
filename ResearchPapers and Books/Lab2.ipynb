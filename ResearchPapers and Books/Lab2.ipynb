{
 "cells": [
  {
   "cell_type": "code",
   "execution_count": 4,
   "metadata": {},
   "outputs": [],
   "source": [
    "import scipy\n",
    "import numpy as np\n",
    "import matplotlib\n",
    "import pandas\n",
    "import sklearn\n",
    "from matplotlib import pyplot\n",
    "import matplotlib.pyplot as plt\n",
    "url = \"https://archive.ics.uci.edu/ml/machine-learning-databases/iris/iris.data\"\n",
    "names = ['sepal-length', 'sepal-width', 'petal-length', 'petal-width', 'class']\n",
    "dataset = pandas.read_csv(url, names=names)"
   ]
  },
  {
   "cell_type": "code",
   "execution_count": 5,
   "metadata": {},
   "outputs": [
    {
     "name": "stdout",
     "output_type": "stream",
     "text": [
      "   sepal-length  sepal-width  petal-length  petal-width        class\n",
      "0           5.1          3.5           1.4          0.2  Iris-setosa\n",
      "1           4.9          3.0           1.4          0.2  Iris-setosa\n",
      "2           4.7          3.2           1.3          0.2  Iris-setosa\n",
      "3           4.6          3.1           1.5          0.2  Iris-setosa\n",
      "4           5.0          3.6           1.4          0.2  Iris-setosa\n",
      "5           5.4          3.9           1.7          0.4  Iris-setosa\n",
      "6           4.6          3.4           1.4          0.3  Iris-setosa\n",
      "7           5.0          3.4           1.5          0.2  Iris-setosa\n",
      "8           4.4          2.9           1.4          0.2  Iris-setosa\n",
      "9           4.9          3.1           1.5          0.1  Iris-setosa\n"
     ]
    }
   ],
   "source": [
    "print(dataset.head(10))"
   ]
  },
  {
   "cell_type": "code",
   "execution_count": 13,
   "metadata": {},
   "outputs": [],
   "source": [
    "setosa_array_0 = np.mean(np.array(dataset.iloc[0:49,0]))\n",
    "setosa_array_1 = np.mean(np.array(dataset.iloc[0:49,1]))\n",
    "setosa_array_2 =  np.mean(np.array(dataset.iloc[0:49,2]))\n",
    "setosa_array_3 =  np.mean(np.array(dataset.iloc[0:49,3]))\n",
    "vergi_array_0 =  np.mean(np.array(dataset.iloc[50:99,0]))\n",
    "vergi_array_1 =  np.mean(np.array(dataset.iloc[50:99,1]))\n",
    "vergi_array_2 =  np.mean(np.array(dataset.iloc[50:99,2]))\n",
    "vergi_array_3 =  np.mean(np.array(dataset.iloc[50:99,3]))\n",
    "versi_array_0 =  np.mean(np.array(dataset.iloc[100:149,0]))\n",
    "versi_array_1 =  np.mean(np.array(dataset.iloc[100:149,1]))\n",
    "versi_array_2 =  np.mean(np.array(dataset.iloc[100:149,2]))\n",
    "versi_array_3 =  np.mean(np.array(dataset.iloc[100:149,3]))\n",
    "setosa_array = np.array(dataset.iloc[0:49,0:3])\n",
    "versicolour_array = np.array(dataset.iloc[50:99,0:3])\n",
    "virginica_array = np.array(dataset.iloc[100:149,0:3])\n"
   ]
  },
  {
   "cell_type": "code",
   "execution_count": 15,
   "metadata": {},
   "outputs": [
    {
     "data": {
      "text/plain": [
       "array([ 3.29727891,  4.3244898 ,  5.04557823])"
      ]
     },
     "metadata": {},
     "output_type": "display_data"
    }
   ],
   "source": [
    "setosa_mean=np.mean(setosa_array)\n",
    "versicolour_mean=np.mean(versicolour_array)\n",
    "virginica_mean=np.mean(virginica_array)\n",
    "arr=np.array([setosa_mean,versicolour_mean,virginica_mean])\n",
    "display(arr)"
   ]
  },
  {
   "cell_type": "code",
   "execution_count": 27,
   "metadata": {},
   "outputs": [
    {
     "name": "stderr",
     "output_type": "stream",
     "text": [
      "C:\\Users\\LENOVO\\Anaconda3\\lib\\site-packages\\ipykernel_launcher.py:2: RuntimeWarning: Degrees of freedom <= 0 for slice\n",
      "  \n",
      "C:\\Users\\LENOVO\\Anaconda3\\lib\\site-packages\\numpy\\lib\\function_base.py:2929: RuntimeWarning: divide by zero encountered in double_scalars\n",
      "  c *= 1. / np.float64(fact)\n",
      "C:\\Users\\LENOVO\\Anaconda3\\lib\\site-packages\\numpy\\lib\\function_base.py:2929: RuntimeWarning: invalid value encountered in multiply\n",
      "  c *= 1. / np.float64(fact)\n"
     ]
    },
    {
     "data": {
      "text/plain": [
       "array([[ nan,  nan,  nan],\n",
       "       [ nan,  nan,  nan],\n",
       "       [ nan,  nan,  nan]])"
      ]
     },
     "metadata": {},
     "output_type": "display_data"
    }
   ],
   "source": [
    "co =np.vstack([setosa_mean,versicolour_mean,virginica_mean])\n",
    "covariance_matrix=np.cov(co)\n",
    "display(covariance_matrix)"
   ]
  },
  {
   "cell_type": "code",
   "execution_count": 30,
   "metadata": {
    "collapsed": true
   },
   "outputs": [],
   "source": [
    "def Gaussian_2D(x,mu,cov):\n",
    "    a=np.matrix(x-mu)\n",
    "    detCov=np.linalg.det(cov)\n",
    "    return 1/(2*np.pi*np.sqrt(detCov))*np.exp(-0.5*a*np.linalg.inv(cov)*a.transpose())"
   ]
  },
  {
   "cell_type": "code",
   "execution_count": null,
   "metadata": {
    "collapsed": true
   },
   "outputs": [],
   "source": []
  }
 ],
 "metadata": {
  "kernelspec": {
   "display_name": "Python 3",
   "language": "python",
   "name": "python3"
  },
  "language_info": {
   "codemirror_mode": {
    "name": "ipython",
    "version": 3
   },
   "file_extension": ".py",
   "mimetype": "text/x-python",
   "name": "python",
   "nbconvert_exporter": "python",
   "pygments_lexer": "ipython3",
   "version": "3.5.5"
  },
  "widgets": {
   "state": {},
   "version": "1.1.2"
  }
 },
 "nbformat": 4,
 "nbformat_minor": 2
}
